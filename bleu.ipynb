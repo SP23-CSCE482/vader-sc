{
 "cells": [
  {
   "cell_type": "code",
   "execution_count": 2,
   "metadata": {},
   "outputs": [
    {
     "name": "stdout",
     "output_type": "stream",
     "text": [
      "Collecting nltk\n",
      "  Downloading https://files.pythonhosted.org/packages/a6/0a/0d20d2c0f16be91b9fa32a77b76c60f9baf6eba419e5ef5deca17af9c582/nltk-3.8.1-py3-none-any.whl (1.5MB)\n",
      "Requirement already satisfied: click in c:\\users\\anthony pierson\\appdata\\local\\programs\\python\\python38\\lib\\site-packages (from nltk) (8.1.3)\n",
      "Requirement already satisfied: tqdm in c:\\users\\anthony pierson\\appdata\\local\\programs\\python\\python38\\lib\\site-packages (from nltk) (4.64.1)\n",
      "Requirement already satisfied: regex>=2021.8.3 in c:\\users\\anthony pierson\\appdata\\local\\programs\\python\\python38\\lib\\site-packages (from nltk) (2022.10.31)\n",
      "Collecting joblib (from nltk)\n",
      "  Downloading https://files.pythonhosted.org/packages/91/d4/3b4c8e5a30604df4c7518c562d4bf0502f2fa29221459226e140cf846512/joblib-1.2.0-py3-none-any.whl (297kB)\n",
      "Requirement already satisfied: colorama; platform_system == \"Windows\" in c:\\users\\anthony pierson\\appdata\\roaming\\python\\python38\\site-packages (from click->nltk) (0.4.6)\n",
      "Installing collected packages: joblib, nltk\n",
      "Successfully installed joblib-1.2.0 nltk-3.8.1\n",
      "Note: you may need to restart the kernel to use updated packages.\n"
     ]
    },
    {
     "name": "stderr",
     "output_type": "stream",
     "text": [
      "WARNING: You are using pip version 19.2.3, however version 23.0.1 is available.\n",
      "You should consider upgrading via the 'python -m pip install --upgrade pip' command.\n"
     ]
    }
   ],
   "source": [
    "%pip install nltk"
   ]
  },
  {
   "cell_type": "code",
   "execution_count": 7,
   "metadata": {},
   "outputs": [],
   "source": [
    "from nltk.translate.bleu_score import sentence_bleu\n",
    "import numpy as np"
   ]
  },
  {
   "cell_type": "code",
   "execution_count": 23,
   "metadata": {},
   "outputs": [
    {
     "name": "stdout",
     "output_type": "stream",
     "text": [
      "['1', '2', '3', '4', '5', '6', '7', '8', '9']\n",
      "['9', '8', '7', '1', '2', '3', '4', '5']\n",
      "BLEU similarity metrics for dataset: \n",
      "Mean:  0.5131108244419322\n",
      "Median:  0.5131108244419322\n",
      "\n"
     ]
    }
   ],
   "source": [
    "class Comparison():\n",
    "    def __init__(this, ref, gen):\n",
    "        this.ref = ref\n",
    "        this.gen = gen\n",
    "\n",
    "    def compare(this):\n",
    "        refsplit = this.ref.split(\" \")\n",
    "        gensplit = this.gen.split(\" \")\n",
    "\n",
    "        print(refsplit)\n",
    "        print(gensplit)\n",
    "        score = sentence_bleu([refsplit],gensplit)\n",
    "        this.similarity = score\n",
    "        return(score)\n",
    "\n",
    "class comparisonCorpus():\n",
    "    def __init__(this):\n",
    "        this.comparisonpairs = []\n",
    "\n",
    "    def addComparison(this,comparison):\n",
    "        this.comparisonpairs.append(comparison)\n",
    "\n",
    "    def compareAll(this):\n",
    "        scores = []\n",
    "        lengthAnomoly = []\n",
    "        \n",
    "        for comparison in this.comparisonpairs:\n",
    "            scores.append(comparison.compare())\n",
    "            lengthAnomoly.append(np.abs(len(comparison.ref)-len(comparison.gen)))\n",
    "        return(scores, lengthAnomoly)\n",
    "    \n",
    "    def generateMetrics(this):\n",
    "        scores, lengthAnomoly = this.compareAll()\n",
    "        \n",
    "        print(\"BLEU similarity metrics for dataset: \")\n",
    "        print(\"Mean: \",np.mean(scores))\n",
    "        print(\"Median: \",np.median(scores))\n",
    "        print(\"Length anomoly metrics for dataset: \")\n",
    "        print(\"Mean: \",np.mean(lengthAnomoly))\n",
    "        print(\"Median: \",np.median(lengthAnomoly))\n",
    "        print(\"\")\n",
    "\n",
    "\n",
    "cc = comparisonCorpus()\n",
    "cc.addComparison(Comparison(\"1 2 3 4 5 6 7 8 9\",\"9 8 7 1 2 3 4 5\"))\n",
    "cc.generateMetrics()\n",
    "\n",
    "\n"
   ]
  }
 ],
 "metadata": {
  "kernelspec": {
   "display_name": "Python 3",
   "language": "python",
   "name": "python3"
  },
  "language_info": {
   "codemirror_mode": {
    "name": "ipython",
    "version": 3
   },
   "file_extension": ".py",
   "mimetype": "text/x-python",
   "name": "python",
   "nbconvert_exporter": "python",
   "pygments_lexer": "ipython3",
   "version": "3.8.3"
  },
  "orig_nbformat": 4,
  "vscode": {
   "interpreter": {
    "hash": "3d4686d9c9b92981dc324bcd939dfa1976a28f1552ffec9a268b1875a02072d4"
   }
  }
 },
 "nbformat": 4,
 "nbformat_minor": 2
}
